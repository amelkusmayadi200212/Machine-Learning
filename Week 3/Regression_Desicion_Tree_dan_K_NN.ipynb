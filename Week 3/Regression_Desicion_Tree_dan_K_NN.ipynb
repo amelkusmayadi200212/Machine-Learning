{
  "nbformat": 4,
  "nbformat_minor": 0,
  "metadata": {
    "colab": {
      "provenance": []
    },
    "kernelspec": {
      "name": "python3",
      "display_name": "Python 3"
    },
    "language_info": {
      "name": "python"
    }
  },
  "cells": [
    {
      "cell_type": "markdown",
      "source": [
        "Nama : Ameliani Kusmayadi\n",
        "\n",
        "NIM : 1103213044\n",
        "\n",
        "Kelas : TK-45-06\n"
      ],
      "metadata": {
        "id": "Y6qsR1M2XWli"
      }
    },
    {
      "cell_type": "markdown",
      "source": [
        "# Decision Tree"
      ],
      "metadata": {
        "id": "_07jAHAtXj0R"
      }
    },
    {
      "cell_type": "code",
      "source": [
        "import pandas as pd\n",
        "import numpy as np\n",
        "import matplotlib.pyplot as plt\n",
        "from sklearn.model_selection import train_test_split\n",
        "from sklearn.tree import DecisionTreeRegressor\n",
        "from sklearn.linear_model import LinearRegression\n",
        "from sklearn.preprocessing import PolynomialFeatures, LabelEncoder\n",
        "from sklearn.metrics import mean_squared_error, r2_score\n",
        "from math import sqrt"
      ],
      "metadata": {
        "id": "Y7zMdEG3XxoI"
      },
      "execution_count": 1,
      "outputs": []
    },
    {
      "cell_type": "code",
      "source": [
        "df = pd.read_csv(\"/content/drive/MyDrive/Dataset/MaterialStrength.csv\")\n",
        "df"
      ],
      "metadata": {
        "colab": {
          "base_uri": "https://localhost:8080/",
          "height": 423
        },
        "id": "TeNbOlJVX1hh",
        "outputId": "42f6a251-1320-40f9-94e4-36459a18e615"
      },
      "execution_count": 2,
      "outputs": [
        {
          "output_type": "execute_result",
          "data": {
            "text/plain": [
              "         x1     x2     x3     x4    x5      x6     x7   x8        x9    x10  \\\n",
              "0     540.0    0.0    0.0  162.0   2.5  1040.0  676.0   28  0.300000  540.0   \n",
              "1     540.0    0.0    0.0  162.0   2.5  1055.0  676.0   28  0.300000  540.0   \n",
              "2     332.5  142.5    0.0  228.0   0.0   932.0  594.0  270  0.685714  475.0   \n",
              "3     332.5  142.5    0.0  228.0   0.0   932.0  594.0  365  0.685714  475.0   \n",
              "4     198.6  132.4    0.0  192.0   0.0   978.4  825.5  360  0.966767  331.0   \n",
              "...     ...    ...    ...    ...   ...     ...    ...  ...       ...    ...   \n",
              "1025  276.4  116.0   90.3  179.6   8.9   870.1  768.3   28  0.649783  482.7   \n",
              "1026  322.2    0.0  115.6  196.0  10.4   817.9  813.4   28  0.608318  437.8   \n",
              "1027  148.5  139.4  108.6  192.7   6.1   892.4  780.0   28  1.297643  396.5   \n",
              "1028  159.1  186.7    0.0  175.6  11.3   989.6  788.9   28  1.103708  345.8   \n",
              "1029  260.9  100.5   78.3  200.6   8.6   864.5  761.5   28  0.768877  439.7   \n",
              "\n",
              "           x11  x12       x13  x14  x15  target_feature  \n",
              "0     1.538462    1  0.350044  YEs   NO           79.99  \n",
              "1     1.560651    1  0.452416  yES  nOO           61.89  \n",
              "2     1.569024    0  6.704743  yEs   NO           40.27  \n",
              "3     1.569024    0  8.891596  yes  NOO           41.05  \n",
              "4     1.185221    0  8.126411  YeS   no           44.30  \n",
              "...        ...  ...       ...  ...  ...             ...  \n",
              "1025  1.132500    1  0.632340  Yes   nO           44.28  \n",
              "1026  1.005532    1  0.898012  yES   nO           31.18  \n",
              "1027  1.144103    1  1.181435  yes  Noo           23.70  \n",
              "1028  1.254405    1  0.854440  Yes   NO           32.77  \n",
              "1029  1.135259    1  0.864198  Yes   nO           32.40  \n",
              "\n",
              "[1030 rows x 16 columns]"
            ],
            "text/html": [
              "\n",
              "  <div id=\"df-71bfc41e-53a6-44ee-b212-bc20bd0a296a\" class=\"colab-df-container\">\n",
              "    <div>\n",
              "<style scoped>\n",
              "    .dataframe tbody tr th:only-of-type {\n",
              "        vertical-align: middle;\n",
              "    }\n",
              "\n",
              "    .dataframe tbody tr th {\n",
              "        vertical-align: top;\n",
              "    }\n",
              "\n",
              "    .dataframe thead th {\n",
              "        text-align: right;\n",
              "    }\n",
              "</style>\n",
              "<table border=\"1\" class=\"dataframe\">\n",
              "  <thead>\n",
              "    <tr style=\"text-align: right;\">\n",
              "      <th></th>\n",
              "      <th>x1</th>\n",
              "      <th>x2</th>\n",
              "      <th>x3</th>\n",
              "      <th>x4</th>\n",
              "      <th>x5</th>\n",
              "      <th>x6</th>\n",
              "      <th>x7</th>\n",
              "      <th>x8</th>\n",
              "      <th>x9</th>\n",
              "      <th>x10</th>\n",
              "      <th>x11</th>\n",
              "      <th>x12</th>\n",
              "      <th>x13</th>\n",
              "      <th>x14</th>\n",
              "      <th>x15</th>\n",
              "      <th>target_feature</th>\n",
              "    </tr>\n",
              "  </thead>\n",
              "  <tbody>\n",
              "    <tr>\n",
              "      <th>0</th>\n",
              "      <td>540.0</td>\n",
              "      <td>0.0</td>\n",
              "      <td>0.0</td>\n",
              "      <td>162.0</td>\n",
              "      <td>2.5</td>\n",
              "      <td>1040.0</td>\n",
              "      <td>676.0</td>\n",
              "      <td>28</td>\n",
              "      <td>0.300000</td>\n",
              "      <td>540.0</td>\n",
              "      <td>1.538462</td>\n",
              "      <td>1</td>\n",
              "      <td>0.350044</td>\n",
              "      <td>YEs</td>\n",
              "      <td>NO</td>\n",
              "      <td>79.99</td>\n",
              "    </tr>\n",
              "    <tr>\n",
              "      <th>1</th>\n",
              "      <td>540.0</td>\n",
              "      <td>0.0</td>\n",
              "      <td>0.0</td>\n",
              "      <td>162.0</td>\n",
              "      <td>2.5</td>\n",
              "      <td>1055.0</td>\n",
              "      <td>676.0</td>\n",
              "      <td>28</td>\n",
              "      <td>0.300000</td>\n",
              "      <td>540.0</td>\n",
              "      <td>1.560651</td>\n",
              "      <td>1</td>\n",
              "      <td>0.452416</td>\n",
              "      <td>yES</td>\n",
              "      <td>nOO</td>\n",
              "      <td>61.89</td>\n",
              "    </tr>\n",
              "    <tr>\n",
              "      <th>2</th>\n",
              "      <td>332.5</td>\n",
              "      <td>142.5</td>\n",
              "      <td>0.0</td>\n",
              "      <td>228.0</td>\n",
              "      <td>0.0</td>\n",
              "      <td>932.0</td>\n",
              "      <td>594.0</td>\n",
              "      <td>270</td>\n",
              "      <td>0.685714</td>\n",
              "      <td>475.0</td>\n",
              "      <td>1.569024</td>\n",
              "      <td>0</td>\n",
              "      <td>6.704743</td>\n",
              "      <td>yEs</td>\n",
              "      <td>NO</td>\n",
              "      <td>40.27</td>\n",
              "    </tr>\n",
              "    <tr>\n",
              "      <th>3</th>\n",
              "      <td>332.5</td>\n",
              "      <td>142.5</td>\n",
              "      <td>0.0</td>\n",
              "      <td>228.0</td>\n",
              "      <td>0.0</td>\n",
              "      <td>932.0</td>\n",
              "      <td>594.0</td>\n",
              "      <td>365</td>\n",
              "      <td>0.685714</td>\n",
              "      <td>475.0</td>\n",
              "      <td>1.569024</td>\n",
              "      <td>0</td>\n",
              "      <td>8.891596</td>\n",
              "      <td>yes</td>\n",
              "      <td>NOO</td>\n",
              "      <td>41.05</td>\n",
              "    </tr>\n",
              "    <tr>\n",
              "      <th>4</th>\n",
              "      <td>198.6</td>\n",
              "      <td>132.4</td>\n",
              "      <td>0.0</td>\n",
              "      <td>192.0</td>\n",
              "      <td>0.0</td>\n",
              "      <td>978.4</td>\n",
              "      <td>825.5</td>\n",
              "      <td>360</td>\n",
              "      <td>0.966767</td>\n",
              "      <td>331.0</td>\n",
              "      <td>1.185221</td>\n",
              "      <td>0</td>\n",
              "      <td>8.126411</td>\n",
              "      <td>YeS</td>\n",
              "      <td>no</td>\n",
              "      <td>44.30</td>\n",
              "    </tr>\n",
              "    <tr>\n",
              "      <th>...</th>\n",
              "      <td>...</td>\n",
              "      <td>...</td>\n",
              "      <td>...</td>\n",
              "      <td>...</td>\n",
              "      <td>...</td>\n",
              "      <td>...</td>\n",
              "      <td>...</td>\n",
              "      <td>...</td>\n",
              "      <td>...</td>\n",
              "      <td>...</td>\n",
              "      <td>...</td>\n",
              "      <td>...</td>\n",
              "      <td>...</td>\n",
              "      <td>...</td>\n",
              "      <td>...</td>\n",
              "      <td>...</td>\n",
              "    </tr>\n",
              "    <tr>\n",
              "      <th>1025</th>\n",
              "      <td>276.4</td>\n",
              "      <td>116.0</td>\n",
              "      <td>90.3</td>\n",
              "      <td>179.6</td>\n",
              "      <td>8.9</td>\n",
              "      <td>870.1</td>\n",
              "      <td>768.3</td>\n",
              "      <td>28</td>\n",
              "      <td>0.649783</td>\n",
              "      <td>482.7</td>\n",
              "      <td>1.132500</td>\n",
              "      <td>1</td>\n",
              "      <td>0.632340</td>\n",
              "      <td>Yes</td>\n",
              "      <td>nO</td>\n",
              "      <td>44.28</td>\n",
              "    </tr>\n",
              "    <tr>\n",
              "      <th>1026</th>\n",
              "      <td>322.2</td>\n",
              "      <td>0.0</td>\n",
              "      <td>115.6</td>\n",
              "      <td>196.0</td>\n",
              "      <td>10.4</td>\n",
              "      <td>817.9</td>\n",
              "      <td>813.4</td>\n",
              "      <td>28</td>\n",
              "      <td>0.608318</td>\n",
              "      <td>437.8</td>\n",
              "      <td>1.005532</td>\n",
              "      <td>1</td>\n",
              "      <td>0.898012</td>\n",
              "      <td>yES</td>\n",
              "      <td>nO</td>\n",
              "      <td>31.18</td>\n",
              "    </tr>\n",
              "    <tr>\n",
              "      <th>1027</th>\n",
              "      <td>148.5</td>\n",
              "      <td>139.4</td>\n",
              "      <td>108.6</td>\n",
              "      <td>192.7</td>\n",
              "      <td>6.1</td>\n",
              "      <td>892.4</td>\n",
              "      <td>780.0</td>\n",
              "      <td>28</td>\n",
              "      <td>1.297643</td>\n",
              "      <td>396.5</td>\n",
              "      <td>1.144103</td>\n",
              "      <td>1</td>\n",
              "      <td>1.181435</td>\n",
              "      <td>yes</td>\n",
              "      <td>Noo</td>\n",
              "      <td>23.70</td>\n",
              "    </tr>\n",
              "    <tr>\n",
              "      <th>1028</th>\n",
              "      <td>159.1</td>\n",
              "      <td>186.7</td>\n",
              "      <td>0.0</td>\n",
              "      <td>175.6</td>\n",
              "      <td>11.3</td>\n",
              "      <td>989.6</td>\n",
              "      <td>788.9</td>\n",
              "      <td>28</td>\n",
              "      <td>1.103708</td>\n",
              "      <td>345.8</td>\n",
              "      <td>1.254405</td>\n",
              "      <td>1</td>\n",
              "      <td>0.854440</td>\n",
              "      <td>Yes</td>\n",
              "      <td>NO</td>\n",
              "      <td>32.77</td>\n",
              "    </tr>\n",
              "    <tr>\n",
              "      <th>1029</th>\n",
              "      <td>260.9</td>\n",
              "      <td>100.5</td>\n",
              "      <td>78.3</td>\n",
              "      <td>200.6</td>\n",
              "      <td>8.6</td>\n",
              "      <td>864.5</td>\n",
              "      <td>761.5</td>\n",
              "      <td>28</td>\n",
              "      <td>0.768877</td>\n",
              "      <td>439.7</td>\n",
              "      <td>1.135259</td>\n",
              "      <td>1</td>\n",
              "      <td>0.864198</td>\n",
              "      <td>Yes</td>\n",
              "      <td>nO</td>\n",
              "      <td>32.40</td>\n",
              "    </tr>\n",
              "  </tbody>\n",
              "</table>\n",
              "<p>1030 rows × 16 columns</p>\n",
              "</div>\n",
              "    <div class=\"colab-df-buttons\">\n",
              "\n",
              "  <div class=\"colab-df-container\">\n",
              "    <button class=\"colab-df-convert\" onclick=\"convertToInteractive('df-71bfc41e-53a6-44ee-b212-bc20bd0a296a')\"\n",
              "            title=\"Convert this dataframe to an interactive table.\"\n",
              "            style=\"display:none;\">\n",
              "\n",
              "  <svg xmlns=\"http://www.w3.org/2000/svg\" height=\"24px\" viewBox=\"0 -960 960 960\">\n",
              "    <path d=\"M120-120v-720h720v720H120Zm60-500h600v-160H180v160Zm220 220h160v-160H400v160Zm0 220h160v-160H400v160ZM180-400h160v-160H180v160Zm440 0h160v-160H620v160ZM180-180h160v-160H180v160Zm440 0h160v-160H620v160Z\"/>\n",
              "  </svg>\n",
              "    </button>\n",
              "\n",
              "  <style>\n",
              "    .colab-df-container {\n",
              "      display:flex;\n",
              "      gap: 12px;\n",
              "    }\n",
              "\n",
              "    .colab-df-convert {\n",
              "      background-color: #E8F0FE;\n",
              "      border: none;\n",
              "      border-radius: 50%;\n",
              "      cursor: pointer;\n",
              "      display: none;\n",
              "      fill: #1967D2;\n",
              "      height: 32px;\n",
              "      padding: 0 0 0 0;\n",
              "      width: 32px;\n",
              "    }\n",
              "\n",
              "    .colab-df-convert:hover {\n",
              "      background-color: #E2EBFA;\n",
              "      box-shadow: 0px 1px 2px rgba(60, 64, 67, 0.3), 0px 1px 3px 1px rgba(60, 64, 67, 0.15);\n",
              "      fill: #174EA6;\n",
              "    }\n",
              "\n",
              "    .colab-df-buttons div {\n",
              "      margin-bottom: 4px;\n",
              "    }\n",
              "\n",
              "    [theme=dark] .colab-df-convert {\n",
              "      background-color: #3B4455;\n",
              "      fill: #D2E3FC;\n",
              "    }\n",
              "\n",
              "    [theme=dark] .colab-df-convert:hover {\n",
              "      background-color: #434B5C;\n",
              "      box-shadow: 0px 1px 3px 1px rgba(0, 0, 0, 0.15);\n",
              "      filter: drop-shadow(0px 1px 2px rgba(0, 0, 0, 0.3));\n",
              "      fill: #FFFFFF;\n",
              "    }\n",
              "  </style>\n",
              "\n",
              "    <script>\n",
              "      const buttonEl =\n",
              "        document.querySelector('#df-71bfc41e-53a6-44ee-b212-bc20bd0a296a button.colab-df-convert');\n",
              "      buttonEl.style.display =\n",
              "        google.colab.kernel.accessAllowed ? 'block' : 'none';\n",
              "\n",
              "      async function convertToInteractive(key) {\n",
              "        const element = document.querySelector('#df-71bfc41e-53a6-44ee-b212-bc20bd0a296a');\n",
              "        const dataTable =\n",
              "          await google.colab.kernel.invokeFunction('convertToInteractive',\n",
              "                                                    [key], {});\n",
              "        if (!dataTable) return;\n",
              "\n",
              "        const docLinkHtml = 'Like what you see? Visit the ' +\n",
              "          '<a target=\"_blank\" href=https://colab.research.google.com/notebooks/data_table.ipynb>data table notebook</a>'\n",
              "          + ' to learn more about interactive tables.';\n",
              "        element.innerHTML = '';\n",
              "        dataTable['output_type'] = 'display_data';\n",
              "        await google.colab.output.renderOutput(dataTable, element);\n",
              "        const docLink = document.createElement('div');\n",
              "        docLink.innerHTML = docLinkHtml;\n",
              "        element.appendChild(docLink);\n",
              "      }\n",
              "    </script>\n",
              "  </div>\n",
              "\n",
              "\n",
              "<div id=\"df-23f98248-49d3-4db0-ab7b-81e5504501d3\">\n",
              "  <button class=\"colab-df-quickchart\" onclick=\"quickchart('df-23f98248-49d3-4db0-ab7b-81e5504501d3')\"\n",
              "            title=\"Suggest charts\"\n",
              "            style=\"display:none;\">\n",
              "\n",
              "<svg xmlns=\"http://www.w3.org/2000/svg\" height=\"24px\"viewBox=\"0 0 24 24\"\n",
              "     width=\"24px\">\n",
              "    <g>\n",
              "        <path d=\"M19 3H5c-1.1 0-2 .9-2 2v14c0 1.1.9 2 2 2h14c1.1 0 2-.9 2-2V5c0-1.1-.9-2-2-2zM9 17H7v-7h2v7zm4 0h-2V7h2v10zm4 0h-2v-4h2v4z\"/>\n",
              "    </g>\n",
              "</svg>\n",
              "  </button>\n",
              "\n",
              "<style>\n",
              "  .colab-df-quickchart {\n",
              "      --bg-color: #E8F0FE;\n",
              "      --fill-color: #1967D2;\n",
              "      --hover-bg-color: #E2EBFA;\n",
              "      --hover-fill-color: #174EA6;\n",
              "      --disabled-fill-color: #AAA;\n",
              "      --disabled-bg-color: #DDD;\n",
              "  }\n",
              "\n",
              "  [theme=dark] .colab-df-quickchart {\n",
              "      --bg-color: #3B4455;\n",
              "      --fill-color: #D2E3FC;\n",
              "      --hover-bg-color: #434B5C;\n",
              "      --hover-fill-color: #FFFFFF;\n",
              "      --disabled-bg-color: #3B4455;\n",
              "      --disabled-fill-color: #666;\n",
              "  }\n",
              "\n",
              "  .colab-df-quickchart {\n",
              "    background-color: var(--bg-color);\n",
              "    border: none;\n",
              "    border-radius: 50%;\n",
              "    cursor: pointer;\n",
              "    display: none;\n",
              "    fill: var(--fill-color);\n",
              "    height: 32px;\n",
              "    padding: 0;\n",
              "    width: 32px;\n",
              "  }\n",
              "\n",
              "  .colab-df-quickchart:hover {\n",
              "    background-color: var(--hover-bg-color);\n",
              "    box-shadow: 0 1px 2px rgba(60, 64, 67, 0.3), 0 1px 3px 1px rgba(60, 64, 67, 0.15);\n",
              "    fill: var(--button-hover-fill-color);\n",
              "  }\n",
              "\n",
              "  .colab-df-quickchart-complete:disabled,\n",
              "  .colab-df-quickchart-complete:disabled:hover {\n",
              "    background-color: var(--disabled-bg-color);\n",
              "    fill: var(--disabled-fill-color);\n",
              "    box-shadow: none;\n",
              "  }\n",
              "\n",
              "  .colab-df-spinner {\n",
              "    border: 2px solid var(--fill-color);\n",
              "    border-color: transparent;\n",
              "    border-bottom-color: var(--fill-color);\n",
              "    animation:\n",
              "      spin 1s steps(1) infinite;\n",
              "  }\n",
              "\n",
              "  @keyframes spin {\n",
              "    0% {\n",
              "      border-color: transparent;\n",
              "      border-bottom-color: var(--fill-color);\n",
              "      border-left-color: var(--fill-color);\n",
              "    }\n",
              "    20% {\n",
              "      border-color: transparent;\n",
              "      border-left-color: var(--fill-color);\n",
              "      border-top-color: var(--fill-color);\n",
              "    }\n",
              "    30% {\n",
              "      border-color: transparent;\n",
              "      border-left-color: var(--fill-color);\n",
              "      border-top-color: var(--fill-color);\n",
              "      border-right-color: var(--fill-color);\n",
              "    }\n",
              "    40% {\n",
              "      border-color: transparent;\n",
              "      border-right-color: var(--fill-color);\n",
              "      border-top-color: var(--fill-color);\n",
              "    }\n",
              "    60% {\n",
              "      border-color: transparent;\n",
              "      border-right-color: var(--fill-color);\n",
              "    }\n",
              "    80% {\n",
              "      border-color: transparent;\n",
              "      border-right-color: var(--fill-color);\n",
              "      border-bottom-color: var(--fill-color);\n",
              "    }\n",
              "    90% {\n",
              "      border-color: transparent;\n",
              "      border-bottom-color: var(--fill-color);\n",
              "    }\n",
              "  }\n",
              "</style>\n",
              "\n",
              "  <script>\n",
              "    async function quickchart(key) {\n",
              "      const quickchartButtonEl =\n",
              "        document.querySelector('#' + key + ' button');\n",
              "      quickchartButtonEl.disabled = true;  // To prevent multiple clicks.\n",
              "      quickchartButtonEl.classList.add('colab-df-spinner');\n",
              "      try {\n",
              "        const charts = await google.colab.kernel.invokeFunction(\n",
              "            'suggestCharts', [key], {});\n",
              "      } catch (error) {\n",
              "        console.error('Error during call to suggestCharts:', error);\n",
              "      }\n",
              "      quickchartButtonEl.classList.remove('colab-df-spinner');\n",
              "      quickchartButtonEl.classList.add('colab-df-quickchart-complete');\n",
              "    }\n",
              "    (() => {\n",
              "      let quickchartButtonEl =\n",
              "        document.querySelector('#df-23f98248-49d3-4db0-ab7b-81e5504501d3 button');\n",
              "      quickchartButtonEl.style.display =\n",
              "        google.colab.kernel.accessAllowed ? 'block' : 'none';\n",
              "    })();\n",
              "  </script>\n",
              "</div>\n",
              "\n",
              "  <div id=\"id_f2a419e8-d771-40b1-b312-abe4db39ea73\">\n",
              "    <style>\n",
              "      .colab-df-generate {\n",
              "        background-color: #E8F0FE;\n",
              "        border: none;\n",
              "        border-radius: 50%;\n",
              "        cursor: pointer;\n",
              "        display: none;\n",
              "        fill: #1967D2;\n",
              "        height: 32px;\n",
              "        padding: 0 0 0 0;\n",
              "        width: 32px;\n",
              "      }\n",
              "\n",
              "      .colab-df-generate:hover {\n",
              "        background-color: #E2EBFA;\n",
              "        box-shadow: 0px 1px 2px rgba(60, 64, 67, 0.3), 0px 1px 3px 1px rgba(60, 64, 67, 0.15);\n",
              "        fill: #174EA6;\n",
              "      }\n",
              "\n",
              "      [theme=dark] .colab-df-generate {\n",
              "        background-color: #3B4455;\n",
              "        fill: #D2E3FC;\n",
              "      }\n",
              "\n",
              "      [theme=dark] .colab-df-generate:hover {\n",
              "        background-color: #434B5C;\n",
              "        box-shadow: 0px 1px 3px 1px rgba(0, 0, 0, 0.15);\n",
              "        filter: drop-shadow(0px 1px 2px rgba(0, 0, 0, 0.3));\n",
              "        fill: #FFFFFF;\n",
              "      }\n",
              "    </style>\n",
              "    <button class=\"colab-df-generate\" onclick=\"generateWithVariable('df')\"\n",
              "            title=\"Generate code using this dataframe.\"\n",
              "            style=\"display:none;\">\n",
              "\n",
              "  <svg xmlns=\"http://www.w3.org/2000/svg\" height=\"24px\"viewBox=\"0 0 24 24\"\n",
              "       width=\"24px\">\n",
              "    <path d=\"M7,19H8.4L18.45,9,17,7.55,7,17.6ZM5,21V16.75L18.45,3.32a2,2,0,0,1,2.83,0l1.4,1.43a1.91,1.91,0,0,1,.58,1.4,1.91,1.91,0,0,1-.58,1.4L9.25,21ZM18.45,9,17,7.55Zm-12,3A5.31,5.31,0,0,0,4.9,8.1,5.31,5.31,0,0,0,1,6.5,5.31,5.31,0,0,0,4.9,4.9,5.31,5.31,0,0,0,6.5,1,5.31,5.31,0,0,0,8.1,4.9,5.31,5.31,0,0,0,12,6.5,5.46,5.46,0,0,0,6.5,12Z\"/>\n",
              "  </svg>\n",
              "    </button>\n",
              "    <script>\n",
              "      (() => {\n",
              "      const buttonEl =\n",
              "        document.querySelector('#id_f2a419e8-d771-40b1-b312-abe4db39ea73 button.colab-df-generate');\n",
              "      buttonEl.style.display =\n",
              "        google.colab.kernel.accessAllowed ? 'block' : 'none';\n",
              "\n",
              "      buttonEl.onclick = () => {\n",
              "        google.colab.notebook.generateWithVariable('df');\n",
              "      }\n",
              "      })();\n",
              "    </script>\n",
              "  </div>\n",
              "\n",
              "    </div>\n",
              "  </div>\n"
            ],
            "application/vnd.google.colaboratory.intrinsic+json": {
              "type": "dataframe",
              "variable_name": "df",
              "summary": "{\n  \"name\": \"df\",\n  \"rows\": 1030,\n  \"fields\": [\n    {\n      \"column\": \"x1\",\n      \"properties\": {\n        \"dtype\": \"number\",\n        \"std\": 104.50636449481543,\n        \"min\": 102.0,\n        \"max\": 540.0,\n        \"num_unique_values\": 278,\n        \"samples\": [\n          337.9,\n          290.2,\n          262.0\n        ],\n        \"semantic_type\": \"\",\n        \"description\": \"\"\n      }\n    },\n    {\n      \"column\": \"x2\",\n      \"properties\": {\n        \"dtype\": \"number\",\n        \"std\": 86.27934174810551,\n        \"min\": 0.0,\n        \"max\": 359.4,\n        \"num_unique_values\": 185,\n        \"samples\": [\n          94.7,\n          119.0,\n          136.3\n        ],\n        \"semantic_type\": \"\",\n        \"description\": \"\"\n      }\n    },\n    {\n      \"column\": \"x3\",\n      \"properties\": {\n        \"dtype\": \"number\",\n        \"std\": 63.99700415268812,\n        \"min\": 0.0,\n        \"max\": 200.1,\n        \"num_unique_values\": 156,\n        \"samples\": [\n          98.0,\n          142.0,\n          195.0\n        ],\n        \"semantic_type\": \"\",\n        \"description\": \"\"\n      }\n    },\n    {\n      \"column\": \"x4\",\n      \"properties\": {\n        \"dtype\": \"number\",\n        \"std\": 21.354218565032525,\n        \"min\": 121.8,\n        \"max\": 247.0,\n        \"num_unique_values\": 195,\n        \"samples\": [\n          195.4,\n          183.8,\n          127.3\n        ],\n        \"semantic_type\": \"\",\n        \"description\": \"\"\n      }\n    },\n    {\n      \"column\": \"x5\",\n      \"properties\": {\n        \"dtype\": \"number\",\n        \"std\": 5.973841392485506,\n        \"min\": 0.0,\n        \"max\": 32.2,\n        \"num_unique_values\": 111,\n        \"samples\": [\n          15.0,\n          28.2,\n          16.5\n        ],\n        \"semantic_type\": \"\",\n        \"description\": \"\"\n      }\n    },\n    {\n      \"column\": \"x6\",\n      \"properties\": {\n        \"dtype\": \"number\",\n        \"std\": 77.75395396672091,\n        \"min\": 801.0,\n        \"max\": 1145.0,\n        \"num_unique_values\": 284,\n        \"samples\": [\n          852.1,\n          913.9,\n          914.0\n        ],\n        \"semantic_type\": \"\",\n        \"description\": \"\"\n      }\n    },\n    {\n      \"column\": \"x7\",\n      \"properties\": {\n        \"dtype\": \"number\",\n        \"std\": 80.17598014240434,\n        \"min\": 594.0,\n        \"max\": 992.6,\n        \"num_unique_values\": 302,\n        \"samples\": [\n          710.0,\n          695.4,\n          769.3\n        ],\n        \"semantic_type\": \"\",\n        \"description\": \"\"\n      }\n    },\n    {\n      \"column\": \"x8\",\n      \"properties\": {\n        \"dtype\": \"number\",\n        \"std\": 63,\n        \"min\": 1,\n        \"max\": 365,\n        \"num_unique_values\": 14,\n        \"samples\": [\n          91,\n          100,\n          28\n        ],\n        \"semantic_type\": \"\",\n        \"description\": \"\"\n      }\n    },\n    {\n      \"column\": \"x9\",\n      \"properties\": {\n        \"dtype\": \"number\",\n        \"std\": 0.3140054949742805,\n        \"min\": 0.266892527762093,\n        \"max\": 1.8823529411764703,\n        \"num_unique_values\": 382,\n        \"samples\": [\n          1.2647058823529411,\n          1.3835616438356164,\n          0.5218579234972678\n        ],\n        \"semantic_type\": \"\",\n        \"description\": \"\"\n      }\n    },\n    {\n      \"column\": \"x10\",\n      \"properties\": {\n        \"dtype\": \"number\",\n        \"std\": 92.78066924598141,\n        \"min\": 200.0,\n        \"max\": 640.0,\n        \"num_unique_values\": 292,\n        \"samples\": [\n          409.4,\n          468.6,\n          374.5\n        ],\n        \"semantic_type\": \"\",\n        \"description\": \"\"\n      }\n    },\n    {\n      \"column\": \"x11\",\n      \"properties\": {\n        \"dtype\": \"number\",\n        \"std\": 0.18566989373105341,\n        \"min\": 0.8584525488615756,\n        \"max\": 1.874876033057851,\n        \"num_unique_values\": 371,\n        \"samples\": [\n          1.2264780461764313,\n          1.3570155334861218,\n          0.9204926001944476\n        ],\n        \"semantic_type\": \"\",\n        \"description\": \"\"\n      }\n    },\n    {\n      \"column\": \"x12\",\n      \"properties\": {\n        \"dtype\": \"number\",\n        \"std\": 0,\n        \"min\": 0,\n        \"max\": 1,\n        \"num_unique_values\": 2,\n        \"samples\": [\n          0,\n          1\n        ],\n        \"semantic_type\": \"\",\n        \"description\": \"\"\n      }\n    },\n    {\n      \"column\": \"x13\",\n      \"properties\": {\n        \"dtype\": \"number\",\n        \"std\": 1.5216896658305348,\n        \"min\": 0.0720461095100864,\n        \"max\": 14.55342902711324,\n        \"num_unique_values\": 903,\n        \"samples\": [\n          0.1041666666666666,\n          0.086281276962899\n        ],\n        \"semantic_type\": \"\",\n        \"description\": \"\"\n      }\n    },\n    {\n      \"column\": \"x14\",\n      \"properties\": {\n        \"dtype\": \"category\",\n        \"num_unique_values\": 8,\n        \"samples\": [\n          \"yES\",\n          \"YES\"\n        ],\n        \"semantic_type\": \"\",\n        \"description\": \"\"\n      }\n    },\n    {\n      \"column\": \"x15\",\n      \"properties\": {\n        \"dtype\": \"category\",\n        \"num_unique_values\": 8,\n        \"samples\": [\n          \"nOO\",\n          \"No\"\n        ],\n        \"semantic_type\": \"\",\n        \"description\": \"\"\n      }\n    },\n    {\n      \"column\": \"target_feature\",\n      \"properties\": {\n        \"dtype\": \"number\",\n        \"std\": 16.705741961912505,\n        \"min\": 2.33,\n        \"max\": 82.6,\n        \"num_unique_values\": 845,\n        \"samples\": [\n          41.68,\n          39.59\n        ],\n        \"semantic_type\": \"\",\n        \"description\": \"\"\n      }\n    }\n  ]\n}"
            }
          },
          "metadata": {},
          "execution_count": 2
        }
      ]
    },
    {
      "cell_type": "code",
      "source": [
        "df.info()"
      ],
      "metadata": {
        "colab": {
          "base_uri": "https://localhost:8080/"
        },
        "id": "xWgLimYNYbEf",
        "outputId": "5dcc96f4-6e77-4e51-938c-0e65b7d0f9a3"
      },
      "execution_count": 3,
      "outputs": [
        {
          "output_type": "stream",
          "name": "stdout",
          "text": [
            "<class 'pandas.core.frame.DataFrame'>\n",
            "RangeIndex: 1030 entries, 0 to 1029\n",
            "Data columns (total 16 columns):\n",
            " #   Column          Non-Null Count  Dtype  \n",
            "---  ------          --------------  -----  \n",
            " 0   x1              1030 non-null   float64\n",
            " 1   x2              1030 non-null   float64\n",
            " 2   x3              1030 non-null   float64\n",
            " 3   x4              1030 non-null   float64\n",
            " 4   x5              1030 non-null   float64\n",
            " 5   x6              1030 non-null   float64\n",
            " 6   x7              1030 non-null   float64\n",
            " 7   x8              1030 non-null   int64  \n",
            " 8   x9              1030 non-null   float64\n",
            " 9   x10             1030 non-null   float64\n",
            " 10  x11             1030 non-null   float64\n",
            " 11  x12             1030 non-null   int64  \n",
            " 12  x13             1030 non-null   float64\n",
            " 13  x14             1030 non-null   object \n",
            " 14  x15             1030 non-null   object \n",
            " 15  target_feature  1030 non-null   float64\n",
            "dtypes: float64(12), int64(2), object(2)\n",
            "memory usage: 128.9+ KB\n"
          ]
        }
      ]
    },
    {
      "cell_type": "code",
      "source": [
        "# Ubah nilai string menjadi integer pada kolom x14 dan x15 menggunakan LabelEncoder\n",
        "label_encoder = LabelEncoder()\n",
        "df['x14'] = label_encoder.fit_transform(df['x14'])\n",
        "df['x15'] = label_encoder.fit_transform(df['x15'])\n",
        "\n",
        "# Verifikasi apakah kolom sudah berubah menjadi integer\n",
        "print(df[['x14', 'x15']].head())"
      ],
      "metadata": {
        "colab": {
          "base_uri": "https://localhost:8080/"
        },
        "id": "Wr9Ak9qCYeM-",
        "outputId": "1a42ad5e-3c11-46ea-9ae5-0007490e39f4"
      },
      "execution_count": 4,
      "outputs": [
        {
          "output_type": "stream",
          "name": "stdout",
          "text": [
            "   x14  x15\n",
            "0    2    0\n",
            "1    5    6\n",
            "2    6    0\n",
            "3    7    1\n",
            "4    3    7\n"
          ]
        }
      ]
    },
    {
      "cell_type": "code",
      "source": [
        "# Pisahkan fitur (x1 - x15) dan target (target_feature)\n",
        "X = df[['x1', 'x2', 'x3', 'x4', 'x5', 'x6', 'x7', 'x8', 'x9', 'x10', 'x11', 'x12', 'x13', 'x14', 'x15']]\n",
        "y = df['target_feature']\n",
        "\n",
        "# Split dataset menjadi data latih dan data uji (80% latih, 20% uji)\n",
        "X_train, X_test, y_train, y_test = train_test_split(X, y, test_size=0.2, random_state=42)"
      ],
      "metadata": {
        "id": "oA5WyUZEYfuY"
      },
      "execution_count": 5,
      "outputs": []
    },
    {
      "cell_type": "markdown",
      "source": [
        "**Model Linear Regression**"
      ],
      "metadata": {
        "id": "akwky7V3YrZi"
      }
    },
    {
      "cell_type": "code",
      "source": [
        "# Inisialisasi model Linear Regression\n",
        "linear_regressor = LinearRegression()\n",
        "\n",
        "# Latih model dengan data latih\n",
        "linear_regressor.fit(X_train, y_train)\n",
        "\n",
        "# Prediksi menggunakan data uji\n",
        "y_pred_lr = linear_regressor.predict(X_test)\n",
        "\n",
        "# Hitung evaluasi metrik untuk Linear Regression\n",
        "rmse_lr = sqrt(mean_squared_error(y_test, y_pred_lr))\n",
        "mse_lr = mean_squared_error(y_test, y_pred_lr)\n",
        "r2_lr = r2_score(y_test, y_pred_lr)\n",
        "\n",
        "print(\"=== Linear Regression  ===\")\n",
        "print(f\"\\nRMSE: {rmse_lr}, \\nMSE: {mse_lr}, \\nR2: {r2_lr}\")"
      ],
      "metadata": {
        "colab": {
          "base_uri": "https://localhost:8080/"
        },
        "id": "3bVphIKCYiGC",
        "outputId": "ae08fa3f-c877-42c4-dbd0-ec487be182f4"
      },
      "execution_count": 6,
      "outputs": [
        {
          "output_type": "stream",
          "name": "stdout",
          "text": [
            "=== Linear Regression  ===\n",
            "\n",
            "RMSE: 8.687203153089014, \n",
            "MSE: 75.4674986230397, \n",
            "R2: 0.7071235323232181\n"
          ]
        }
      ]
    },
    {
      "cell_type": "markdown",
      "source": [
        "**Polynomial Linear Regression**"
      ],
      "metadata": {
        "id": "9SKXAvNsYycf"
      }
    },
    {
      "cell_type": "code",
      "source": [
        "# Definisikan derajat polinomial yang diinginkan, misal: derajat 2\n",
        "poly_features = PolynomialFeatures(degree=2)\n",
        "\n",
        "# Transformasikan fitur menjadi fitur polinomial\n",
        "X_train_poly = poly_features.fit_transform(X_train)\n",
        "X_test_poly = poly_features.transform(X_test)\n",
        "\n",
        "# Inisialisasi model Linear Regression untuk basis fungsi\n",
        "poly_regressor = LinearRegression()\n",
        "\n",
        "# Latih model dengan data latih (fitur polinomial)\n",
        "poly_regressor.fit(X_train_poly, y_train)\n",
        "\n",
        "# Prediksi menggunakan data uji (fitur polinomial)\n",
        "y_pred_poly = poly_regressor.predict(X_test_poly)\n",
        "\n",
        "# Hitung evaluasi metrik untuk Polynomial Regression\n",
        "rmse_poly = sqrt(mean_squared_error(y_test, y_pred_poly))\n",
        "mse_poly = mean_squared_error(y_test, y_pred_poly)\n",
        "r2_poly = r2_score(y_test, y_pred_poly)\n",
        "\n",
        "print(\"=== Polynomial Regression ===\")\n",
        "print(f\"\\nRMSE: {rmse_poly}, \\nMSE: {mse_poly}, \\nR2: {r2_poly}\")"
      ],
      "metadata": {
        "colab": {
          "base_uri": "https://localhost:8080/"
        },
        "id": "hDab9mQ9YxLP",
        "outputId": "9862afdf-d92f-4baa-ca13-c716d8707e7e"
      },
      "execution_count": 7,
      "outputs": [
        {
          "output_type": "stream",
          "name": "stdout",
          "text": [
            "=== Polynomial Regression ===\n",
            "\n",
            "RMSE: 5.889486070970972, \n",
            "MSE: 34.68604618016109, \n",
            "R2: 0.8653893812797192\n"
          ]
        }
      ]
    },
    {
      "cell_type": "code",
      "source": [
        "print(\"\\n=== Perbandingan Hasil ===\")\n",
        "print(f\"Linear Regression: RMSE = {rmse_lr}, MSE = {mse_lr}, R2 = {r2_lr}\")\n",
        "print(f\"Polynomial Regression: RMSE = {rmse_poly}, MSE = {mse_poly}, R2 = {r2_poly}\")"
      ],
      "metadata": {
        "colab": {
          "base_uri": "https://localhost:8080/"
        },
        "id": "ic9AN1iCY35d",
        "outputId": "39eb3e8b-ec00-4f82-d546-24ecd0d03feb"
      },
      "execution_count": 8,
      "outputs": [
        {
          "output_type": "stream",
          "name": "stdout",
          "text": [
            "\n",
            "=== Perbandingan Hasil ===\n",
            "Linear Regression: RMSE = 8.687203153089014, MSE = 75.4674986230397, R2 = 0.7071235323232181\n",
            "Polynomial Regression: RMSE = 5.889486070970972, MSE = 34.68604618016109, R2 = 0.8653893812797192\n"
          ]
        }
      ]
    },
    {
      "cell_type": "code",
      "source": [
        "# Buat data dummy (ganti dengan data aslimu)\n",
        "x = np.linspace(0, 10, 100)  # fitur\n",
        "y = 0.5 * (x**2) - 4 * x + 5  # target non-linear\n",
        "\n",
        "# Ubah x menjadi bentuk matrix (fitur 2D)\n",
        "x = x.reshape(-1, 1)\n",
        "\n",
        "# ======= 1. Linear Regression =======\n",
        "linear_regressor = LinearRegression()\n",
        "linear_regressor.fit(x, y)\n",
        "y_pred_lr = linear_regressor.predict(x)\n",
        "\n",
        "# ======= 2. Polynomial Regression (degree=2) =======\n",
        "poly_features = PolynomialFeatures(degree=2)\n",
        "x_poly = poly_features.fit_transform(x)\n",
        "\n",
        "poly_regressor = LinearRegression()\n",
        "poly_regressor.fit(x_poly, y)\n",
        "y_pred_poly = poly_regressor.predict(x_poly)\n",
        "\n",
        "# ======= Plot Perbandingan =======\n",
        "plt.figure(figsize=(8, 6))\n",
        "plt.plot(x, y_pred_lr, color='red', label='Prediksi Regresi Linear Biasa')\n",
        "plt.plot(x, y_pred_poly, color='green', label='Prediksi Regresi Polinomial')\n",
        "plt.title('Perbandingan Regresi Linear Biasa dan Regresi Linear dengan Basis Fungsi')\n",
        "plt.xlabel('Fitur (x)')\n",
        "plt.ylabel('Target (combined_data)')\n",
        "plt.legend()\n",
        "plt.grid(True)\n",
        "plt.show()"
      ],
      "metadata": {
        "colab": {
          "base_uri": "https://localhost:8080/",
          "height": 564
        },
        "id": "bi6jELDlY5mr",
        "outputId": "0600c33e-8951-49d7-b98e-4f5fa67351f1"
      },
      "execution_count": 9,
      "outputs": [
        {
          "output_type": "display_data",
          "data": {
            "text/plain": [
              "<Figure size 800x600 with 1 Axes>"
            ],
            "image/png": "[encoded data removed]"
          },
          "metadata": {}
        }
      ]
    },
    {
      "cell_type": "markdown",
      "source": [
        "# K-NN"
      ],
      "metadata": {
        "id": "4mochTJDZI7R"
      }
    },
    {
      "cell_type": "code",
      "source": [
        "import numpy as np\n",
        "import matplotlib.pyplot as plt\n",
        "from sklearn.model_selection import train_test_split\n",
        "from sklearn.neighbors import KNeighborsRegressor\n",
        "from sklearn.preprocessing import PolynomialFeatures, LabelEncoder\n",
        "from sklearn.metrics import mean_squared_error, r2_score\n",
        "from math import sqrt"
      ],
      "metadata": {
        "id": "6sXavz9PZLRg"
      },
      "execution_count": 10,
      "outputs": []
    },
    {
      "cell_type": "code",
      "source": [
        "df = pd.read_csv(\"/content/drive/MyDrive/Dataset/MaterialStrength.csv\")\n",
        "print(df.head())"
      ],
      "metadata": {
        "colab": {
          "base_uri": "https://localhost:8080/"
        },
        "id": "E5TJixV-ZQkq",
        "outputId": "4a001eca-adb0-418d-c241-c81d36028d0e"
      },
      "execution_count": 11,
      "outputs": [
        {
          "output_type": "stream",
          "name": "stdout",
          "text": [
            "      x1     x2   x3     x4   x5      x6     x7   x8        x9    x10  \\\n",
            "0  540.0    0.0  0.0  162.0  2.5  1040.0  676.0   28  0.300000  540.0   \n",
            "1  540.0    0.0  0.0  162.0  2.5  1055.0  676.0   28  0.300000  540.0   \n",
            "2  332.5  142.5  0.0  228.0  0.0   932.0  594.0  270  0.685714  475.0   \n",
            "3  332.5  142.5  0.0  228.0  0.0   932.0  594.0  365  0.685714  475.0   \n",
            "4  198.6  132.4  0.0  192.0  0.0   978.4  825.5  360  0.966767  331.0   \n",
            "\n",
            "        x11  x12       x13  x14  x15  target_feature  \n",
            "0  1.538462    1  0.350044  YEs   NO           79.99  \n",
            "1  1.560651    1  0.452416  yES  nOO           61.89  \n",
            "2  1.569024    0  6.704743  yEs   NO           40.27  \n",
            "3  1.569024    0  8.891596  yes  NOO           41.05  \n",
            "4  1.185221    0  8.126411  YeS   no           44.30  \n"
          ]
        }
      ]
    },
    {
      "cell_type": "code",
      "source": [
        "# Ubah nilai string menjadi integer pada kolom x14 dan x15 menggunakan LabelEncoder\n",
        "label_encoder = LabelEncoder()\n",
        "df['x14'] = label_encoder.fit_transform(df['x14'])\n",
        "df['x15'] = label_encoder.fit_transform(df['x15'])\n",
        "\n",
        "# Verifikasi apakah kolom sudah berubah menjadi integer\n",
        "print(df[['x14', 'x15']].head())"
      ],
      "metadata": {
        "colab": {
          "base_uri": "https://localhost:8080/"
        },
        "id": "n461-e4NZVwl",
        "outputId": "70fa1cdf-0693-4957-afc4-d6c93498f79b"
      },
      "execution_count": 12,
      "outputs": [
        {
          "output_type": "stream",
          "name": "stdout",
          "text": [
            "   x14  x15\n",
            "0    2    0\n",
            "1    5    6\n",
            "2    6    0\n",
            "3    7    1\n",
            "4    3    7\n"
          ]
        }
      ]
    },
    {
      "cell_type": "code",
      "source": [
        "# Pisahkan fitur (x1 - x15) dan target (target_feature)\n",
        "X = df[['x1', 'x2', 'x3', 'x4', 'x5', 'x6', 'x7', 'x8', 'x9', 'x10', 'x11', 'x12', 'x13', 'x14', 'x15']]\n",
        "y = df['target_feature']\n",
        "\n",
        "# Split dataset menjadi data latih dan data uji (80% latih, 20% uji)\n",
        "X_train, X_test, y_train, y_test = train_test_split(X, y, test_size=0.2, random_state=42)"
      ],
      "metadata": {
        "id": "Bz2xE73vZYA5"
      },
      "execution_count": 13,
      "outputs": []
    },
    {
      "cell_type": "code",
      "source": [
        "# Inisialisasi model Linear Regression\n",
        "linear_regressor = LinearRegression()\n",
        "\n",
        "# Latih model dengan data latih\n",
        "linear_regressor.fit(X_train, y_train)\n",
        "\n",
        "# Prediksi menggunakan data uji\n",
        "y_pred_lr = linear_regressor.predict(X_test)\n",
        "\n",
        "# Hitung evaluasi metrik untuk Linear Regression\n",
        "rmse_lr = sqrt(mean_squared_error(y_test, y_pred_lr))\n",
        "mse_lr = mean_squared_error(y_test, y_pred_lr)\n",
        "r2_lr = r2_score(y_test, y_pred_lr)\n",
        "\n",
        "print(\"=== Linear Regression ===\")\n",
        "print(f\"RMSE: {rmse_lr}, \\nMSE: {mse_lr}, \\nR2: {r2_lr}\")"
      ],
      "metadata": {
        "colab": {
          "base_uri": "https://localhost:8080/"
        },
        "id": "ACWYk618ZZ8x",
        "outputId": "cf5e263d-ddcd-492e-f8de-b3d1c1fe330e"
      },
      "execution_count": 14,
      "outputs": [
        {
          "output_type": "stream",
          "name": "stdout",
          "text": [
            "=== Linear Regression ===\n",
            "RMSE: 8.687203153089014, \n",
            "MSE: 75.4674986230397, \n",
            "R2: 0.7071235323232181\n"
          ]
        }
      ]
    },
    {
      "cell_type": "code",
      "source": [
        "# Definisikan derajat polinomial yang diinginkan\n",
        "poly_features = PolynomialFeatures(degree=2)\n",
        "\n",
        "# Transformasikan fitur menjadi fitur polinomial\n",
        "X_train_poly = poly_features.fit_transform(X_train)\n",
        "X_test_poly = poly_features.transform(X_test)\n",
        "\n",
        "# Inisialisasi model Linear Regression untuk basis fungsi\n",
        "poly_regressor = LinearRegression()\n",
        "\n",
        "# Latih model dengan data latih (fitur polinomial)\n",
        "poly_regressor.fit(X_train_poly, y_train)\n",
        "\n",
        "# Prediksi menggunakan data uji (fitur polinomial)\n",
        "y_pred_poly = poly_regressor.predict(X_test_poly)\n",
        "\n",
        "# Hitung evaluasi metrik untuk Polynomial Regression\n",
        "rmse_poly = sqrt(mean_squared_error(y_test, y_pred_poly))\n",
        "mse_poly = mean_squared_error(y_test, y_pred_poly)\n",
        "r2_poly = r2_score(y_test, y_pred_poly)\n",
        "\n",
        "print(\"=== Polynomial Regression ===\")\n",
        "print(f\"RMSE: {rmse_poly}, \\nMSE: {mse_poly}, \\nR2: {r2_poly}\")"
      ],
      "metadata": {
        "colab": {
          "base_uri": "https://localhost:8080/"
        },
        "id": "UWGokr1MZbjM",
        "outputId": "c6819b18-4946-48a6-8fb2-ee9358df646b"
      },
      "execution_count": 15,
      "outputs": [
        {
          "output_type": "stream",
          "name": "stdout",
          "text": [
            "=== Polynomial Regression ===\n",
            "RMSE: 5.889486070970972, \n",
            "MSE: 34.68604618016109, \n",
            "R2: 0.8653893812797192\n"
          ]
        }
      ]
    },
    {
      "cell_type": "code",
      "source": [
        "# ======= Perbandingan Hasil =======\n",
        "print(\"\\n=== Perbandingan Hasil ===\")\n",
        "print(f\"Linear Regression: RMSE = {rmse_lr}, MSE = {mse_lr}, R2 = {r2_lr}\")\n",
        "print(f\"Polynomial Regression: RMSE = {rmse_poly}, MSE = {mse_poly}, R2 = {r2_poly}\")"
      ],
      "metadata": {
        "colab": {
          "base_uri": "https://localhost:8080/"
        },
        "id": "WwSXua0LZeDy",
        "outputId": "2a45f1a0-05f6-4d68-ebbd-6550cee6694b"
      },
      "execution_count": 16,
      "outputs": [
        {
          "output_type": "stream",
          "name": "stdout",
          "text": [
            "\n",
            "=== Perbandingan Hasil ===\n",
            "Linear Regression: RMSE = 8.687203153089014, MSE = 75.4674986230397, R2 = 0.7071235323232181\n",
            "Polynomial Regression: RMSE = 5.889486070970972, MSE = 34.68604618016109, R2 = 0.8653893812797192\n"
          ]
        }
      ]
    },
    {
      "cell_type": "code",
      "source": [
        "# Di sini kita ambil 'x1' untuk contoh\n",
        "x1 = X_test[['x1']]\n",
        "y_test_array = y_test.to_numpy()\n",
        "\n",
        "# Buat data dummy untuk prediksi dengan lebih halus\n",
        "x1_range = np.linspace(x1.min(), x1.max(), 100).reshape(-1, 1)\n",
        "\n",
        "# Buat dataset dengan kolom nol untuk fitur lainnya\n",
        "x1_range_full = np.hstack([x1_range, np.zeros((x1_range.shape[0], X.shape[1] - 1))])  # nol untuk kolom lain\n",
        "\n",
        "# Buat DataFrame dari x1_range_full dengan nama kolom\n",
        "x1_range_df = pd.DataFrame(x1_range_full, columns=X.columns)\n",
        "\n",
        "# Prediksi menggunakan model linear\n",
        "y_pred_lr_range = linear_regressor.predict(x1_range_df)\n",
        "\n",
        "# Untuk prediksi model polinomial, kita perlu transformasi\n",
        "x1_range_poly = poly_features.transform(x1_range_df)  # Transformasi dengan kolom nol\n",
        "y_pred_poly_range = poly_regressor.predict(x1_range_poly)\n",
        "\n",
        "# Visualisasi\n",
        "plt.figure(figsize=(10, 6))\n",
        "plt.plot(x1_range, y_pred_lr_range, color='red', label='Prediksi Linear Regression')\n",
        "plt.plot(x1_range, y_pred_poly_range, color='green', label='Prediksi Polynomial Regression')\n",
        "plt.title('Perbandingan Linear Regression dan Polynomial Regression')\n",
        "plt.xlabel('Fitur (x1)')\n",
        "plt.ylabel('Target (target_feature)')\n",
        "plt.legend()\n",
        "plt.grid(True)\n",
        "plt.show()"
      ],
      "metadata": {
        "colab": {
          "base_uri": "https://localhost:8080/",
          "height": 564
        },
        "id": "Co7z-L3HZfbI",
        "outputId": "8719e01a-366e-45f5-c7e2-90b78d1d5b45"
      },
      "execution_count": 17,
      "outputs": [
        {
          "output_type": "display_data",
          "data": {
            "text/plain": [
              "<Figure size 1000x600 with 1 Axes>"
            ],
            "image/png": "[encoded data removed]"
          },
          "metadata": {}
        }
      ]
    }
  ]
}